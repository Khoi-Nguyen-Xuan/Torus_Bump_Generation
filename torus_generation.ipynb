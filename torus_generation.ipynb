{
 "cells": [
  {
   "cell_type": "code",
   "execution_count": null,
   "id": "b2dea2fa",
   "metadata": {},
   "outputs": [],
   "source": [
    "import os, sys \n",
    "from math import ceil # Round up\n",
    "import numpy as np \n",
    "import meshplot as mp # Visualize 3D meshes\n",
    "import ipywidgets # Interactive sliders/widgets\n",
    "from skimage import measure #surface extraction (marching cubes)\n",
    "from scipy.ndimage import zoom # Resize\n",
    "from scipy.interpolate import interpn #interpolate a volume at given points\n",
    "from IPython.display import display  #For display \n",
    "from einops import rearrange # Elegant tensor reordering\n",
    "import trimesh"
   ]
  },
  {
   "cell_type": "markdown",
   "id": "37830a38",
   "metadata": {},
   "source": [
    "# Utilities function"
   ]
  },
  {
   "cell_type": "code",
   "execution_count": null,
   "id": "7625c381",
   "metadata": {},
   "outputs": [],
   "source": [
    "# Dot product on the first dimension of n-dimensional arrays x and y\n",
    "def dot(x, y):\n",
    "    return np.einsum('i..., i... -> ...', x, y)\n",
    "\n",
    "#SDF for Torus (formula: https://iquilezles.org/articles/distfunctions/)\n",
    "#x[[0, 2]]: Get only XZ dimensions → projects onto XZ plane, centered at the origin\n",
    "#use np.linalg.norm to computes the distance from the Y-axis\n",
    "#minus the radius and thickness to calculate the SD \n",
    "#Stack with x[1]: Y component preserved → represents distance from torus tube.\n",
    "def sdf_torus(x, radius, thickness):\n",
    "    q = np.stack([np.linalg.norm(x[[0, 2]], axis=0) - radius, x[1]])\n",
    "    return np.linalg.norm(q, axis=0) - thickness\n",
    "\n",
    "# Crop an n-dimensional image with a centered cropping region (after zoom)\n",
    "def center_crop(img, shape):\n",
    "    start = [a // 2 - da // 2 for a, da in zip(img.shape, shape)] #computes center offset by minusing da (desired a)\n",
    "    end = [a + b for a, b in zip(start, shape)] #start + desired shape\n",
    "    slices = tuple([slice(a, b) for a, b in zip(start, end)]) #returns cropping slices for each axis\n",
    "    return img[slices]\n",
    "\n",
    "# Add noise to coordinates\n",
    "def gradient_noise(x, scale, strength, seed=None):\n",
    "    shape = [ceil(s / scale) for s in x.shape[1:]]\n",
    "    if seed:\n",
    "        np.random.seed(seed)\n",
    "    scalar_noise = np.random.randn(*shape)\n",
    "    scalar_noise = zoom(scalar_noise, zoom=scale)\n",
    "    scalar_noise = center_crop(scalar_noise, shape=x.shape[1:])\n",
    "    vector_noise = np.stack(np.gradient(scalar_noise))\n",
    "    return vector_noise * strength\n",
    "\n",
    "# Meshplot will left an annoying print statement in their code\n",
    "# This function used to supress it.\n",
    "class HiddenPrints:\n",
    "    def __enter__(self):\n",
    "        self._original_stdout = sys.stdout\n",
    "        sys.stdout = open(os.devnull, 'w')\n",
    "\n",
    "    def __exit__(self, exc_type, exc_val, exc_tb):\n",
    "        sys.stdout.close()\n",
    "        sys.stdout = self._original_stdout"
   ]
  },
  {
   "cell_type": "markdown",
   "id": "65960fd3",
   "metadata": {},
   "source": [
    "# Interactive with the bump"
   ]
  },
  {
   "cell_type": "code",
   "execution_count": null,
   "id": "0ae9c34b",
   "metadata": {},
   "outputs": [
    {
     "data": {
      "application/vnd.jupyter.widget-view+json": {
       "model_id": "cf0e2cca0e264b83b253da8f04ffac67",
       "version_major": 2,
       "version_minor": 0
      },
      "text/plain": [
       "interactive(children=(FloatSlider(value=0.25, description='radius', max=0.5, step=0.05), FloatSlider(value=0.1…"
      ]
     },
     "metadata": {},
     "output_type": "display_data"
    }
   ],
   "source": [
    "plot = None\n",
    "\n",
    "# Makes sliders for parameters\n",
    "@mp.interact(\n",
    "    radius=(0, 0.5, 0.05),             #Main radius: distance from (0,0,0) to the center of the tube\n",
    "    thickness=(0.01, 0.25, 0.05),      #Minor radius: distance from the center of the tube to outside\n",
    "    noise_scale=(0.0, 40, 1),          \n",
    "    noise_strength=(0.0, 40, 1),\n",
    "    seed=(1, 100),\n",
    "    bump_angle=(-1., 1., 0.1),         #Multiply with pi later to move the bump around the torus \n",
    "    bump_width=(0.001, 0.02, 0.001),   #controls the spread of the gaussian bump \n",
    "    bump_height=(0.1, 50.),            #controls the amplification\n",
    ")\n",
    "\n",
    "def show(radius, thickness, noise_scale, noise_strength, seed, bump_angle, bump_width, bump_height):\n",
    "    global plot\n",
    "\n",
    "    #Create an array of 100 points from -1 to 1 \n",
    "    coords = np.linspace(-1, 1, 100) \n",
    "\n",
    "    #Create a 3D grid with coords above \n",
    "    x = np.stack(np.meshgrid(coords, coords, coords)) # x.shape = (3, 100, 100, 100)\n",
    "\n",
    "    #Base torus shape (no bump)\n",
    "    sdf = sdf_torus(x, radius, thickness)  #Get SDF \n",
    "    verts, faces, normals, values = measure.marching_cubes(sdf, level=0) #Convert SDF to a mesh \n",
    "\n",
    "    # Noise field\n",
    "    x_warp = gradient_noise(x, noise_scale, noise_strength, seed)\n",
    "\n",
    "    # Bump field (Gaussian bump)\n",
    "    angle = np.pi * bump_angle\n",
    "    gaussian_center = np.array([np.sin(angle), 0., np.cos(angle)]) * radius\n",
    "    x_dist = np.linalg.norm((x - gaussian_center[:, None, None, None]), axis=0)\n",
    "    x_bump = bump_height * np.exp(-1. / bump_width * x_dist**2)\n",
    "\n",
    "    # Add bump gradient to warp field\n",
    "    # Gradient of bump field:  a 3D vector pointing outward from the bum\n",
    "    x_warp += -np.stack(np.gradient(x_bump))\n",
    "\n",
    "    # Interpolate displacement at vertices\n",
    "    x_warp = rearrange(x_warp, 'v h w d -> h w d v')\n",
    "    vertex_noise = interpn([np.arange(100)] * 3, x_warp, verts, bounds_error=False, fill_value=0)\n",
    "    vertex_noise = np.nan_to_num(vertex_noise)\n",
    "\n",
    "    # Apply deformation\n",
    "    warped_verts = verts + vertex_noise\n",
    "\n",
    "    # Visualize\n",
    "    if plot is None:\n",
    "        plot = mp.plot(warped_verts, faces, return_plot=True)\n",
    "    else:\n",
    "        with HiddenPrints():\n",
    "            plot.update_object(vertices=warped_verts, faces=faces)\n",
    "        display(plot._renderer)\n",
    "\n",
    "    print(f\"#Verts: {len(warped_verts)}, #Faces: {len(faces)}\")\n"
   ]
  },
  {
   "cell_type": "markdown",
   "id": "1001795c",
   "metadata": {},
   "source": [
    "# Export ply files (currently fix every configuration for the angle)"
   ]
  },
  {
   "cell_type": "code",
   "execution_count": null,
   "id": "03e10d34",
   "metadata": {},
   "outputs": [
    {
     "ename": "NameError",
     "evalue": "name 'pi' is not defined",
     "output_type": "error",
     "traceback": [
      "\u001b[0;31m---------------------------------------------------------------------------\u001b[0m",
      "\u001b[0;31mNameError\u001b[0m                                 Traceback (most recent call last)",
      "Cell \u001b[0;32mIn[9], line 27\u001b[0m\n\u001b[1;32m     24\u001b[0m x_warp \u001b[38;5;241m=\u001b[39m gradient_noise(x, noise_scale, noise_strength, seed)\n\u001b[1;32m     26\u001b[0m \u001b[38;5;66;03m# Bump field\u001b[39;00m\n\u001b[0;32m---> 27\u001b[0m angle \u001b[38;5;241m=\u001b[39m \u001b[43mpi\u001b[49m \u001b[38;5;241m*\u001b[39m bump_angle\n\u001b[1;32m     28\u001b[0m gaussian_center \u001b[38;5;241m=\u001b[39m np\u001b[38;5;241m.\u001b[39marray([np\u001b[38;5;241m.\u001b[39msin(angle), \u001b[38;5;241m0.\u001b[39m, np\u001b[38;5;241m.\u001b[39mcos(angle)]) \u001b[38;5;241m*\u001b[39m radius\n\u001b[1;32m     29\u001b[0m x_dist \u001b[38;5;241m=\u001b[39m np\u001b[38;5;241m.\u001b[39mlinalg\u001b[38;5;241m.\u001b[39mnorm((x \u001b[38;5;241m-\u001b[39m gaussian_center[:, \u001b[38;5;28;01mNone\u001b[39;00m, \u001b[38;5;28;01mNone\u001b[39;00m, \u001b[38;5;28;01mNone\u001b[39;00m]), axis\u001b[38;5;241m=\u001b[39m\u001b[38;5;241m0\u001b[39m)\n",
      "\u001b[0;31mNameError\u001b[0m: name 'pi' is not defined"
     ]
    }
   ],
   "source": [
    "from math import pi\n",
    "\n",
    "#PLEASE CHANGE TO YOUR DIR, create your directory first \n",
    "out_dir = os.path.expanduser(\"~/Downloads/fixed_torus_biggerbump2_1404\") \n",
    "os.makedirs(out_dir, exist_ok=True)\n",
    "\n",
    "# Fixed Parameters\n",
    "resolution = 100\n",
    "radius = 0.25\n",
    "thickness = 0.1\n",
    "noise_scale = 20\n",
    "noise_strength = 5\n",
    "seed = 42\n",
    "bump_width = 0.01\n",
    "bump_height = 30.0\n",
    "\n",
    "\n",
    "coords = np.linspace(-1, 1, resolution)\n",
    "x = np.stack(np.meshgrid(coords, coords, coords))\n",
    "\n",
    "for i, bump_angle in enumerate(np.linspace(-1.0, 1.0, 500)):\n",
    "    # Base torus SDF\n",
    "    sdf = sdf_torus(x, radius, thickness)\n",
    "    verts, faces, normals, values = measure.marching_cubes(sdf, level=0)\n",
    "\n",
    "    # Noise field\n",
    "    x_warp = gradient_noise(x, noise_scale, noise_strength, seed)\n",
    "\n",
    "    # Bump field\n",
    "    angle = pi * bump_angle\n",
    "    gaussian_center = np.array([np.sin(angle), 0., np.cos(angle)]) * radius\n",
    "    x_dist = np.linalg.norm((x - gaussian_center[:, None, None, None]), axis=0)\n",
    "    x_bump = bump_height * np.exp(-1. / bump_width * x_dist**2)\n",
    "    x_warp += -np.stack(np.gradient(x_bump))\n",
    "\n",
    "    # Interpolate and deform\n",
    "    x_warp = rearrange(x_warp, 'v h w d -> h w d v')\n",
    "    vertex_noise = interpn([np.arange(resolution)] * 3, x_warp, verts, bounds_error=False, fill_value=0)\n",
    "    vertex_noise = np.nan_to_num(vertex_noise)\n",
    "    warped_verts = verts + vertex_noise\n",
    "\n",
    "    # Save as PLY\n",
    "    mesh = trimesh.Trimesh(vertices=warped_verts, faces=faces, process=False)\n",
    "    mesh.export(os.path.join(out_dir, f\"torus_{i:03d}.ply\"))\n",
    "\n",
    "print(\"Done exporting files\")"
   ]
  }
 ],
 "metadata": {
  "kernelspec": {
   "display_name": "mesh-x86",
   "language": "python",
   "name": "python3"
  },
  "language_info": {
   "codemirror_mode": {
    "name": "ipython",
    "version": 3
   },
   "file_extension": ".py",
   "mimetype": "text/x-python",
   "name": "python",
   "nbconvert_exporter": "python",
   "pygments_lexer": "ipython3",
   "version": "3.10.16"
  }
 },
 "nbformat": 4,
 "nbformat_minor": 5
}
